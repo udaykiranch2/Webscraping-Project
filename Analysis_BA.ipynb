{
 "cells": [
  {
   "cell_type": "code",
   "execution_count": null,
   "metadata": {},
   "outputs": [],
   "source": []
  },
  {
   "cell_type": "code",
   "execution_count": 56,
   "metadata": {},
   "outputs": [],
   "source": [
    "import pandas as pd\n",
    "import re\n",
    "import numpy as np"
   ]
  },
  {
   "cell_type": "code",
   "execution_count": 57,
   "metadata": {},
   "outputs": [
    {
     "data": {
      "text/html": [
       "<div>\n",
       "<style scoped>\n",
       "    .dataframe tbody tr th:only-of-type {\n",
       "        vertical-align: middle;\n",
       "    }\n",
       "\n",
       "    .dataframe tbody tr th {\n",
       "        vertical-align: top;\n",
       "    }\n",
       "\n",
       "    .dataframe thead th {\n",
       "        text-align: right;\n",
       "    }\n",
       "</style>\n",
       "<table border=\"1\" class=\"dataframe\">\n",
       "  <thead>\n",
       "    <tr style=\"text-align: right;\">\n",
       "      <th></th>\n",
       "      <th>Rating</th>\n",
       "      <th>Review</th>\n",
       "      <th>Verification</th>\n",
       "      <th>Customer</th>\n",
       "      <th>Published Date</th>\n",
       "      <th>Aircraft</th>\n",
       "      <th>Seat Type</th>\n",
       "      <th>Type Of Traveller</th>\n",
       "      <th>Recommended</th>\n",
       "      <th>Ground Service</th>\n",
       "      <th>Wifi &amp; Connectivity</th>\n",
       "      <th>Seat Comfort</th>\n",
       "      <th>Value For Money</th>\n",
       "      <th>Inflight Entertainment</th>\n",
       "      <th>Food &amp; Beverages</th>\n",
       "      <th>Cabin Staff Service</th>\n",
       "      <th>Route</th>\n",
       "    </tr>\n",
       "  </thead>\n",
       "  <tbody>\n",
       "    <tr>\n",
       "      <th>0</th>\n",
       "      <td>1</td>\n",
       "      <td>never fly British Airways again</td>\n",
       "      <td>Verified Review</td>\n",
       "      <td>Andre Esteves</td>\n",
       "      <td>2016-12-29</td>\n",
       "      <td>NaN</td>\n",
       "      <td>Economy Class</td>\n",
       "      <td>Couple Leisure</td>\n",
       "      <td>no</td>\n",
       "      <td>1</td>\n",
       "      <td>NaN</td>\n",
       "      <td>1</td>\n",
       "      <td>1</td>\n",
       "      <td>NaN</td>\n",
       "      <td>NaN</td>\n",
       "      <td>1</td>\n",
       "      <td>MAD to YUL via LHR</td>\n",
       "    </tr>\n",
       "    <tr>\n",
       "      <th>1</th>\n",
       "      <td>10</td>\n",
       "      <td>offered excellent attentive service</td>\n",
       "      <td>Verified Review</td>\n",
       "      <td>B Davidson</td>\n",
       "      <td>2016-12-27</td>\n",
       "      <td>Boeing 747-400</td>\n",
       "      <td>First Class</td>\n",
       "      <td>Couple Leisure</td>\n",
       "      <td>yes</td>\n",
       "      <td>4</td>\n",
       "      <td>NaN</td>\n",
       "      <td>4</td>\n",
       "      <td>4</td>\n",
       "      <td>4.0</td>\n",
       "      <td>4.0</td>\n",
       "      <td>5</td>\n",
       "      <td>MAN to SAN via LHR</td>\n",
       "    </tr>\n",
       "    <tr>\n",
       "      <th>2</th>\n",
       "      <td>7</td>\n",
       "      <td>crew were helpful and attentive</td>\n",
       "      <td>NaN</td>\n",
       "      <td>J Brown</td>\n",
       "      <td>2016-12-27</td>\n",
       "      <td>Boeing 777-200ER</td>\n",
       "      <td>Economy Class</td>\n",
       "      <td>Family Leisure</td>\n",
       "      <td>yes</td>\n",
       "      <td>5</td>\n",
       "      <td>1.0</td>\n",
       "      <td>3</td>\n",
       "      <td>3</td>\n",
       "      <td>3.0</td>\n",
       "      <td>4.0</td>\n",
       "      <td>4</td>\n",
       "      <td>LGW to TPA</td>\n",
       "    </tr>\n",
       "    <tr>\n",
       "      <th>3</th>\n",
       "      <td>1</td>\n",
       "      <td>stood waiting for assistance</td>\n",
       "      <td>Verified Review</td>\n",
       "      <td>E Damelina</td>\n",
       "      <td>2016-12-26</td>\n",
       "      <td>NaN</td>\n",
       "      <td>Economy Class</td>\n",
       "      <td>Family Leisure</td>\n",
       "      <td>no</td>\n",
       "      <td>1</td>\n",
       "      <td>NaN</td>\n",
       "      <td>1</td>\n",
       "      <td>1</td>\n",
       "      <td>2.0</td>\n",
       "      <td>1.0</td>\n",
       "      <td>1</td>\n",
       "      <td>DXB to LHR</td>\n",
       "    </tr>\n",
       "    <tr>\n",
       "      <th>4</th>\n",
       "      <td>9</td>\n",
       "      <td>A380 is state of the art</td>\n",
       "      <td>Verified Review</td>\n",
       "      <td>Gilberto Sing</td>\n",
       "      <td>2016-12-26</td>\n",
       "      <td>A380</td>\n",
       "      <td>Premium Economy</td>\n",
       "      <td>Solo Leisure</td>\n",
       "      <td>yes</td>\n",
       "      <td>5</td>\n",
       "      <td>NaN</td>\n",
       "      <td>5</td>\n",
       "      <td>5</td>\n",
       "      <td>5.0</td>\n",
       "      <td>4.0</td>\n",
       "      <td>4</td>\n",
       "      <td>LAX to LHR</td>\n",
       "    </tr>\n",
       "  </tbody>\n",
       "</table>\n",
       "</div>"
      ],
      "text/plain": [
       "   Rating                               Review     Verification  \\\n",
       "0       1      never fly British Airways again  Verified Review   \n",
       "1      10  offered excellent attentive service  Verified Review   \n",
       "2       7      crew were helpful and attentive              NaN   \n",
       "3       1         stood waiting for assistance  Verified Review   \n",
       "4       9             A380 is state of the art  Verified Review   \n",
       "\n",
       "        Customer Published Date          Aircraft        Seat Type  \\\n",
       "0  Andre Esteves     2016-12-29               NaN    Economy Class   \n",
       "1     B Davidson     2016-12-27    Boeing 747-400      First Class   \n",
       "2        J Brown     2016-12-27  Boeing 777-200ER    Economy Class   \n",
       "3     E Damelina     2016-12-26               NaN    Economy Class   \n",
       "4  Gilberto Sing     2016-12-26              A380  Premium Economy   \n",
       "\n",
       "  Type Of Traveller Recommended  Ground Service  Wifi & Connectivity  \\\n",
       "0    Couple Leisure          no               1                  NaN   \n",
       "1    Couple Leisure         yes               4                  NaN   \n",
       "2    Family Leisure         yes               5                  1.0   \n",
       "3    Family Leisure          no               1                  NaN   \n",
       "4      Solo Leisure         yes               5                  NaN   \n",
       "\n",
       "   Seat Comfort  Value For Money  Inflight Entertainment  Food & Beverages  \\\n",
       "0             1                1                     NaN               NaN   \n",
       "1             4                4                     4.0               4.0   \n",
       "2             3                3                     3.0               4.0   \n",
       "3             1                1                     2.0               1.0   \n",
       "4             5                5                     5.0               4.0   \n",
       "\n",
       "   Cabin Staff Service               Route  \n",
       "0                    1  MAD to YUL via LHR  \n",
       "1                    5  MAN to SAN via LHR  \n",
       "2                    4          LGW to TPA  \n",
       "3                    1          DXB to LHR  \n",
       "4                    4          LAX to LHR  "
      ]
     },
     "execution_count": 57,
     "metadata": {},
     "output_type": "execute_result"
    }
   ],
   "source": [
    "df = pd.read_csv(\"reviews_BA.csv\")\n",
    "df.head()"
   ]
  },
  {
   "cell_type": "code",
   "execution_count": 58,
   "metadata": {},
   "outputs": [
    {
     "name": "stdout",
     "output_type": "stream",
     "text": [
      "<class 'pandas.core.frame.DataFrame'>\n",
      "RangeIndex: 2000 entries, 0 to 1999\n",
      "Data columns (total 17 columns):\n",
      " #   Column                  Non-Null Count  Dtype  \n",
      "---  ------                  --------------  -----  \n",
      " 0   Rating                  2000 non-null   int64  \n",
      " 1   Review                  2000 non-null   object \n",
      " 2   Verification            1440 non-null   object \n",
      " 3   Customer                2000 non-null   object \n",
      " 4   Published Date          2000 non-null   object \n",
      " 5   Aircraft                1380 non-null   object \n",
      " 6   Seat Type               2000 non-null   object \n",
      " 7   Type Of Traveller       2000 non-null   object \n",
      " 8   Recommended             2000 non-null   object \n",
      " 9   Ground Service          2000 non-null   int64  \n",
      " 10  Wifi & Connectivity     320 non-null    float64\n",
      " 11  Seat Comfort            2000 non-null   int64  \n",
      " 12  Value For Money         2000 non-null   int64  \n",
      " 13  Inflight Entertainment  1560 non-null   float64\n",
      " 14  Food & Beverages        1960 non-null   float64\n",
      " 15  Cabin Staff Service     2000 non-null   int64  \n",
      " 16  Route                   2000 non-null   object \n",
      "dtypes: float64(3), int64(5), object(9)\n",
      "memory usage: 265.8+ KB\n"
     ]
    }
   ],
   "source": [
    "df.info()"
   ]
  },
  {
   "cell_type": "code",
   "execution_count": 70,
   "metadata": {},
   "outputs": [
    {
     "name": "stdout",
     "output_type": "stream",
     "text": [
      "<class 'pandas.core.frame.DataFrame'>\n",
      "RangeIndex: 2000 entries, 0 to 1999\n",
      "Data columns (total 17 columns):\n",
      " #   Column                  Non-Null Count  Dtype \n",
      "---  ------                  --------------  ----- \n",
      " 0   Rating                  2000 non-null   int64 \n",
      " 1   Review                  2000 non-null   object\n",
      " 2   Verification            2000 non-null   object\n",
      " 3   Customer                2000 non-null   object\n",
      " 4   Published Date          2000 non-null   object\n",
      " 5   Aircraft                2000 non-null   object\n",
      " 6   Seat Type               2000 non-null   object\n",
      " 7   Type Of Traveller       2000 non-null   object\n",
      " 8   Recommended             2000 non-null   object\n",
      " 9   Ground Service          2000 non-null   int64 \n",
      " 10  Wifi & Connectivity     2000 non-null   int32 \n",
      " 11  Seat Comfort            2000 non-null   int64 \n",
      " 12  Value For Money         2000 non-null   int64 \n",
      " 13  Inflight Entertainment  2000 non-null   int32 \n",
      " 14  Food & Beverages        2000 non-null   int32 \n",
      " 15  Cabin Staff Service     2000 non-null   int64 \n",
      " 16  Route                   2000 non-null   object\n",
      "dtypes: int32(3), int64(5), object(9)\n",
      "memory usage: 242.3+ KB\n"
     ]
    }
   ],
   "source": [
    "# replacing NAN values\n",
    "df[\"Verification\"]=df[\"Verification\"].fillna(\"Unknown\")\n",
    "df[\"Aircraft\"]=df[\"Aircraft\"].fillna(\"Unknown\")\n",
    "df[\"Wifi & Connectivity\"]=df[\"Wifi & Connectivity\"].fillna(0).astype(int)\n",
    "df[\"Inflight Entertainment\"]=df[\"Inflight Entertainment\"].fillna(0).astype(int)\n",
    "df[\"Food & Beverages\"]=df[\"Food & Beverages\"].fillna(0).astype(int)\n",
    "\n",
    "df.info()\n"
   ]
  },
  {
   "cell_type": "code",
   "execution_count": 71,
   "metadata": {},
   "outputs": [
    {
     "data": {
      "text/html": [
       "<div>\n",
       "<style scoped>\n",
       "    .dataframe tbody tr th:only-of-type {\n",
       "        vertical-align: middle;\n",
       "    }\n",
       "\n",
       "    .dataframe tbody tr th {\n",
       "        vertical-align: top;\n",
       "    }\n",
       "\n",
       "    .dataframe thead th {\n",
       "        text-align: right;\n",
       "    }\n",
       "</style>\n",
       "<table border=\"1\" class=\"dataframe\">\n",
       "  <thead>\n",
       "    <tr style=\"text-align: right;\">\n",
       "      <th></th>\n",
       "      <th>Rating</th>\n",
       "      <th>Review</th>\n",
       "      <th>Verification</th>\n",
       "      <th>Customer</th>\n",
       "      <th>Published Date</th>\n",
       "      <th>Aircraft</th>\n",
       "      <th>Seat Type</th>\n",
       "      <th>Type Of Traveller</th>\n",
       "      <th>Recommended</th>\n",
       "      <th>Ground Service</th>\n",
       "      <th>Wifi &amp; Connectivity</th>\n",
       "      <th>Seat Comfort</th>\n",
       "      <th>Value For Money</th>\n",
       "      <th>Inflight Entertainment</th>\n",
       "      <th>Food &amp; Beverages</th>\n",
       "      <th>Cabin Staff Service</th>\n",
       "      <th>Route</th>\n",
       "    </tr>\n",
       "  </thead>\n",
       "  <tbody>\n",
       "    <tr>\n",
       "      <th>0</th>\n",
       "      <td>1</td>\n",
       "      <td>never fly British Airways again</td>\n",
       "      <td>Verified Review</td>\n",
       "      <td>Andre Esteves</td>\n",
       "      <td>2016-12-29</td>\n",
       "      <td>Unknown</td>\n",
       "      <td>Economy Class</td>\n",
       "      <td>Couple Leisure</td>\n",
       "      <td>no</td>\n",
       "      <td>1</td>\n",
       "      <td>0</td>\n",
       "      <td>1</td>\n",
       "      <td>1</td>\n",
       "      <td>0</td>\n",
       "      <td>0</td>\n",
       "      <td>1</td>\n",
       "      <td>MAD to YUL via LHR</td>\n",
       "    </tr>\n",
       "    <tr>\n",
       "      <th>1</th>\n",
       "      <td>10</td>\n",
       "      <td>offered excellent attentive service</td>\n",
       "      <td>Verified Review</td>\n",
       "      <td>B Davidson</td>\n",
       "      <td>2016-12-27</td>\n",
       "      <td>Boeing 747-400</td>\n",
       "      <td>First Class</td>\n",
       "      <td>Couple Leisure</td>\n",
       "      <td>yes</td>\n",
       "      <td>4</td>\n",
       "      <td>0</td>\n",
       "      <td>4</td>\n",
       "      <td>4</td>\n",
       "      <td>4</td>\n",
       "      <td>4</td>\n",
       "      <td>5</td>\n",
       "      <td>MAN to SAN via LHR</td>\n",
       "    </tr>\n",
       "    <tr>\n",
       "      <th>2</th>\n",
       "      <td>7</td>\n",
       "      <td>crew were helpful and attentive</td>\n",
       "      <td>Unknown</td>\n",
       "      <td>J Brown</td>\n",
       "      <td>2016-12-27</td>\n",
       "      <td>Boeing 777-200ER</td>\n",
       "      <td>Economy Class</td>\n",
       "      <td>Family Leisure</td>\n",
       "      <td>yes</td>\n",
       "      <td>5</td>\n",
       "      <td>1</td>\n",
       "      <td>3</td>\n",
       "      <td>3</td>\n",
       "      <td>3</td>\n",
       "      <td>4</td>\n",
       "      <td>4</td>\n",
       "      <td>LGW to TPA</td>\n",
       "    </tr>\n",
       "    <tr>\n",
       "      <th>3</th>\n",
       "      <td>1</td>\n",
       "      <td>stood waiting for assistance</td>\n",
       "      <td>Verified Review</td>\n",
       "      <td>E Damelina</td>\n",
       "      <td>2016-12-26</td>\n",
       "      <td>Unknown</td>\n",
       "      <td>Economy Class</td>\n",
       "      <td>Family Leisure</td>\n",
       "      <td>no</td>\n",
       "      <td>1</td>\n",
       "      <td>0</td>\n",
       "      <td>1</td>\n",
       "      <td>1</td>\n",
       "      <td>2</td>\n",
       "      <td>1</td>\n",
       "      <td>1</td>\n",
       "      <td>DXB to LHR</td>\n",
       "    </tr>\n",
       "    <tr>\n",
       "      <th>4</th>\n",
       "      <td>9</td>\n",
       "      <td>A380 is state of the art</td>\n",
       "      <td>Verified Review</td>\n",
       "      <td>Gilberto Sing</td>\n",
       "      <td>2016-12-26</td>\n",
       "      <td>A380</td>\n",
       "      <td>Premium Economy</td>\n",
       "      <td>Solo Leisure</td>\n",
       "      <td>yes</td>\n",
       "      <td>5</td>\n",
       "      <td>0</td>\n",
       "      <td>5</td>\n",
       "      <td>5</td>\n",
       "      <td>5</td>\n",
       "      <td>4</td>\n",
       "      <td>4</td>\n",
       "      <td>LAX to LHR</td>\n",
       "    </tr>\n",
       "  </tbody>\n",
       "</table>\n",
       "</div>"
      ],
      "text/plain": [
       "   Rating                               Review     Verification  \\\n",
       "0       1      never fly British Airways again  Verified Review   \n",
       "1      10  offered excellent attentive service  Verified Review   \n",
       "2       7      crew were helpful and attentive          Unknown   \n",
       "3       1         stood waiting for assistance  Verified Review   \n",
       "4       9             A380 is state of the art  Verified Review   \n",
       "\n",
       "        Customer Published Date          Aircraft        Seat Type  \\\n",
       "0  Andre Esteves     2016-12-29           Unknown    Economy Class   \n",
       "1     B Davidson     2016-12-27    Boeing 747-400      First Class   \n",
       "2        J Brown     2016-12-27  Boeing 777-200ER    Economy Class   \n",
       "3     E Damelina     2016-12-26           Unknown    Economy Class   \n",
       "4  Gilberto Sing     2016-12-26              A380  Premium Economy   \n",
       "\n",
       "  Type Of Traveller Recommended  Ground Service  Wifi & Connectivity  \\\n",
       "0    Couple Leisure          no               1                    0   \n",
       "1    Couple Leisure         yes               4                    0   \n",
       "2    Family Leisure         yes               5                    1   \n",
       "3    Family Leisure          no               1                    0   \n",
       "4      Solo Leisure         yes               5                    0   \n",
       "\n",
       "   Seat Comfort  Value For Money  Inflight Entertainment  Food & Beverages  \\\n",
       "0             1                1                       0                 0   \n",
       "1             4                4                       4                 4   \n",
       "2             3                3                       3                 4   \n",
       "3             1                1                       2                 1   \n",
       "4             5                5                       5                 4   \n",
       "\n",
       "   Cabin Staff Service               Route  \n",
       "0                    1  MAD to YUL via LHR  \n",
       "1                    5  MAN to SAN via LHR  \n",
       "2                    4          LGW to TPA  \n",
       "3                    1          DXB to LHR  \n",
       "4                    4          LAX to LHR  "
      ]
     },
     "execution_count": 71,
     "metadata": {},
     "output_type": "execute_result"
    }
   ],
   "source": [
    "df.head()\n",
    "\n"
   ]
  },
  {
   "cell_type": "markdown",
   "metadata": {},
   "source": [
    "There are only 5 rows with null values. most of the customers didn't gave review on 'Wifi & Connectivity'"
   ]
  },
  {
   "cell_type": "code",
   "execution_count": 61,
   "metadata": {},
   "outputs": [
    {
     "data": {
      "text/plain": [
       "0       False\n",
       "1       False\n",
       "2       False\n",
       "3       False\n",
       "4       False\n",
       "        ...  \n",
       "1995     True\n",
       "1996     True\n",
       "1997     True\n",
       "1998     True\n",
       "1999     True\n",
       "Length: 2000, dtype: bool"
      ]
     },
     "execution_count": 61,
     "metadata": {},
     "output_type": "execute_result"
    }
   ],
   "source": [
    "df.duplicated()"
   ]
  },
  {
   "cell_type": "code",
   "execution_count": 62,
   "metadata": {},
   "outputs": [
    {
     "data": {
      "text/plain": [
       "Seat Type\n",
       "Economy Class      960\n",
       "Premium Economy    400\n",
       "Business Class     340\n",
       "First Class        300\n",
       "Name: count, dtype: int64"
      ]
     },
     "execution_count": 62,
     "metadata": {},
     "output_type": "execute_result"
    }
   ],
   "source": [
    "df[\"Seat Type\"].value_counts()"
   ]
  },
  {
   "cell_type": "code",
   "execution_count": 63,
   "metadata": {},
   "outputs": [
    {
     "data": {
      "text/plain": [
       "740"
      ]
     },
     "execution_count": 63,
     "metadata": {},
     "output_type": "execute_result"
    }
   ],
   "source": [
    "df[df[\"Rating\"]>=7][\"Rating\"].count() # outof 2000 members only given positive review"
   ]
  },
  {
   "cell_type": "code",
   "execution_count": 64,
   "metadata": {},
   "outputs": [
    {
     "data": {
      "text/plain": [
       "200"
      ]
     },
     "execution_count": 64,
     "metadata": {},
     "output_type": "execute_result"
    }
   ],
   "source": [
    "df[(df.Rating < 7) & (df.Rating > 4)][\"Rating\"].count()  # only 200 members have given a neutral review"
   ]
  },
  {
   "cell_type": "code",
   "execution_count": 65,
   "metadata": {},
   "outputs": [
    {
     "data": {
      "text/plain": [
       "940"
      ]
     },
     "execution_count": 65,
     "metadata": {},
     "output_type": "execute_result"
    }
   ],
   "source": [
    "df[(df.Rating<=3)][\"Rating\"].count() # 940 members have given negative reviews."
   ]
  },
  {
   "cell_type": "code",
   "execution_count": 66,
   "metadata": {},
   "outputs": [
    {
     "data": {
      "text/plain": [
       "Recommended\n",
       "no     1120\n",
       "yes     880\n",
       "Name: count, dtype: int64"
      ]
     },
     "execution_count": 66,
     "metadata": {},
     "output_type": "execute_result"
    }
   ],
   "source": [
    "df[\"Recommended\"].value_counts() # outof 2000 members 880 members recommended BA"
   ]
  },
  {
   "cell_type": "code",
   "execution_count": 67,
   "metadata": {},
   "outputs": [
    {
     "data": {
      "text/plain": [
       "Type Of Traveller\n",
       "Couple Leisure    740\n",
       "Business          560\n",
       "Solo Leisure      480\n",
       "Family Leisure    220\n",
       "Name: count, dtype: int64"
      ]
     },
     "execution_count": 67,
     "metadata": {},
     "output_type": "execute_result"
    }
   ],
   "source": [
    "df[\"Type Of Traveller\"].value_counts()"
   ]
  },
  {
   "cell_type": "code",
   "execution_count": 73,
   "metadata": {},
   "outputs": [
    {
     "data": {
      "text/plain": [
       "Aircraft\n",
       "Unknown                     620\n",
       "Boeing 777                  280\n",
       "A380                        220\n",
       "A320                        180\n",
       "Boeing 747-400              160\n",
       "Boeing 787                  100\n",
       "Boeing 777-200               80\n",
       "A321                         60\n",
       "Boeing 787-900               40\n",
       "Boeing 777-200ER             40\n",
       "Boeing 747                   20\n",
       "A320 / Boeing 767            20\n",
       "A380 and Boeing 777          20\n",
       "Boeing 777-300 / A380        20\n",
       "A380 800                     20\n",
       "Boeing 787-800               20\n",
       "Boeing 737                   20\n",
       "Various                      20\n",
       "Boeing 787-800 / 777-200     20\n",
       "A380-800                     20\n",
       "Boeing 747-400 / A380        20\n",
       "Name: count, dtype: int64"
      ]
     },
     "execution_count": 73,
     "metadata": {},
     "output_type": "execute_result"
    }
   ],
   "source": [
    "df[\"Aircraft\"].value_counts() # out of 2000 customers 620 members didn't mention the flight name."
   ]
  },
  {
   "cell_type": "code",
   "execution_count": 78,
   "metadata": {},
   "outputs": [],
   "source": [
    "df.to_csv(\"cleaned_BA.csv\",index=False)"
   ]
  }
 ],
 "metadata": {
  "kernelspec": {
   "display_name": "base",
   "language": "python",
   "name": "python3"
  },
  "language_info": {
   "codemirror_mode": {
    "name": "ipython",
    "version": 3
   },
   "file_extension": ".py",
   "mimetype": "text/x-python",
   "name": "python",
   "nbconvert_exporter": "python",
   "pygments_lexer": "ipython3",
   "version": "3.11.5"
  }
 },
 "nbformat": 4,
 "nbformat_minor": 2
}
